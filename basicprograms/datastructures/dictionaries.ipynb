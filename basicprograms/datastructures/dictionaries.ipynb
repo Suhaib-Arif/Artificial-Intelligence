{
  "nbformat": 4,
  "nbformat_minor": 0,
  "metadata": {
    "colab": {
      "provenance": [],
      "collapsed_sections": []
    },
    "kernelspec": {
      "name": "python3",
      "display_name": "Python 3"
    },
    "language_info": {
      "name": "python"
    }
  },
  "cells": [
    {
      "cell_type": "markdown",
      "source": [
        "Dictionaries are used to store data values in key:value pairs.\n",
        "\n",
        "A dictionary is a collection which is ordered*, changeable and do not allow duplicates"
      ],
      "metadata": {
        "id": "ZE5SJAgGT6rE"
      }
    },
    {
      "cell_type": "code",
      "execution_count": 2,
      "metadata": {
        "id": "OFFkchYLbJT5"
      },
      "outputs": [],
      "source": [
        "foods={}"
      ]
    },
    {
      "cell_type": "markdown",
      "source": [
        "Creating dictionaries with key and value"
      ],
      "metadata": {
        "id": "__4eMylrUHbQ"
      }
    },
    {
      "cell_type": "code",
      "source": [
        "foods[\"banana\"] = \"A delicious and tasty treat!\"\n",
        "foods[\"dirt\"]   = \"Not delicious. Not tasty. DO NOT EAT!\""
      ],
      "metadata": {
        "id": "755UnFL0bUYx"
      },
      "execution_count": 3,
      "outputs": []
    },
    {
      "cell_type": "code",
      "source": [
        " foods"
      ],
      "metadata": {
        "colab": {
          "base_uri": "https://localhost:8080/"
        },
        "id": "Kl1T05A4bXL5",
        "outputId": "109fef51-5300-42ec-bcd0-a5ccd7b74917"
      },
      "execution_count": 4,
      "outputs": [
        {
          "output_type": "execute_result",
          "data": {
            "text/plain": [
              "{'banana': 'A delicious and tasty treat!',\n",
              " 'dirt': 'Not delicious. Not tasty. DO NOT EAT!'}"
            ]
          },
          "metadata": {},
          "execution_count": 4
        }
      ]
    },
    {
      "cell_type": "code",
      "source": [
        "#displays the value for the given key\n",
        "foods[\"banana\"]"
      ],
      "metadata": {
        "colab": {
          "base_uri": "https://localhost:8080/",
          "height": 35
        },
        "id": "74EHMGEWbZMh",
        "outputId": "5b297628-365b-4cab-f513-33c482bb572c"
      },
      "execution_count": 6,
      "outputs": [
        {
          "output_type": "execute_result",
          "data": {
            "text/plain": [
              "'A delicious and tasty treat!'"
            ],
            "application/vnd.google.colaboratory.intrinsic+json": {
              "type": "string"
            }
          },
          "metadata": {},
          "execution_count": 6
        }
      ]
    },
    {
      "cell_type": "code",
      "source": [
        "foods[\"cheese\"]"
      ],
      "metadata": {
        "colab": {
          "base_uri": "https://localhost:8080/",
          "height": 167
        },
        "id": "ZgTg-kbcbbjJ",
        "outputId": "bec60374-8ac9-401a-c88e-1aaf118cff5b"
      },
      "execution_count": 7,
      "outputs": [
        {
          "output_type": "error",
          "ename": "KeyError",
          "evalue": "ignored",
          "traceback": [
            "\u001b[0;31m---------------------------------------------------------------------------\u001b[0m",
            "\u001b[0;31mKeyError\u001b[0m                                  Traceback (most recent call last)",
            "\u001b[0;32m<ipython-input-7-92e8dea09452>\u001b[0m in \u001b[0;36m<module>\u001b[0;34m\u001b[0m\n\u001b[0;32m----> 1\u001b[0;31m \u001b[0mfoods\u001b[0m\u001b[0;34m[\u001b[0m\u001b[0;34m\"cheese\"\u001b[0m\u001b[0;34m]\u001b[0m\u001b[0;34m\u001b[0m\u001b[0;34m\u001b[0m\u001b[0m\n\u001b[0m",
            "\u001b[0;31mKeyError\u001b[0m: 'cheese'"
          ]
        }
      ]
    },
    {
      "cell_type": "code",
      "source": [
        "if \"cheese\" in foods:\n",
        "    print(\"Cheese is one of the known foods!\")\n",
        "    print(foods[\"cheese\"])"
      ],
      "metadata": {
        "id": "lxmuj1IBbeTR"
      },
      "execution_count": 8,
      "outputs": []
    },
    {
      "cell_type": "code",
      "source": [
        "foods"
      ],
      "metadata": {
        "colab": {
          "base_uri": "https://localhost:8080/"
        },
        "id": "hTX_eHpBVcdL",
        "outputId": "80d5ad4d-673e-4561-fada-ce2c326c4c75"
      },
      "execution_count": 9,
      "outputs": [
        {
          "output_type": "execute_result",
          "data": {
            "text/plain": [
              "{'banana': 'A delicious and tasty treat!',\n",
              " 'dirt': 'Not delicious. Not tasty. DO NOT EAT!'}"
            ]
          },
          "metadata": {},
          "execution_count": 9
        }
      ]
    },
    {
      "cell_type": "code",
      "source": [
        "del foods[\"dirt\"]"
      ],
      "metadata": {
        "id": "A0Vkop7LbibB"
      },
      "execution_count": 10,
      "outputs": []
    },
    {
      "cell_type": "code",
      "source": [
        "ingredients = {}\n",
        "#creates a list of values for the key\n",
        "ingredients[\"blt sandwich\"] = [\"bread\", \"lettuce\", \"tomato\", \"bacon\"]"
      ],
      "metadata": {
        "id": "4If2q8-Vbkux"
      },
      "execution_count": 11,
      "outputs": []
    },
    {
      "cell_type": "code",
      "source": [
        "ingredients"
      ],
      "metadata": {
        "colab": {
          "base_uri": "https://localhost:8080/"
        },
        "id": "JZRrn2Jmb_xB",
        "outputId": "f8c60991-8c63-45fb-9c85-457b4658498b"
      },
      "execution_count": 13,
      "outputs": [
        {
          "output_type": "execute_result",
          "data": {
            "text/plain": [
              "{'blt sandwich': ['bread', 'lettuce', 'tomato', 'bacon']}"
            ]
          },
          "metadata": {},
          "execution_count": 13
        }
      ]
    },
    {
      "cell_type": "code",
      "source": [
        "#print the keys in dictionary\n",
        "for x in ingredients:\n",
        "  print(x)"
      ],
      "metadata": {
        "colab": {
          "base_uri": "https://localhost:8080/"
        },
        "id": "noISRoQucDVB",
        "outputId": "92ad307d-a71a-4bdf-88aa-03a77d92aa50"
      },
      "execution_count": 14,
      "outputs": [
        {
          "output_type": "stream",
          "name": "stdout",
          "text": [
            "blt sandwich\n"
          ]
        }
      ]
    },
    {
      "cell_type": "code",
      "source": [
        "#print the value for the given key\n",
        "for x in ingredients:\n",
        "  print(ingredients[x])"
      ],
      "metadata": {
        "colab": {
          "base_uri": "https://localhost:8080/"
        },
        "id": "hLZXYFUPcZLS",
        "outputId": "e5231ff3-5b12-40d8-dffa-f01aec7d37b7"
      },
      "execution_count": 15,
      "outputs": [
        {
          "output_type": "stream",
          "name": "stdout",
          "text": [
            "['bread', 'lettuce', 'tomato', 'bacon']\n"
          ]
        }
      ]
    },
    {
      "cell_type": "code",
      "source": [
        "#print the list of values for the given dictionary\n",
        "for x in ingredients.values():\n",
        "  print(x)"
      ],
      "metadata": {
        "colab": {
          "base_uri": "https://localhost:8080/"
        },
        "id": "M6phvSsScg-B",
        "outputId": "450515c7-d79e-4a32-d7ca-97b9ff9a9b7e"
      },
      "execution_count": 16,
      "outputs": [
        {
          "output_type": "stream",
          "name": "stdout",
          "text": [
            "['bread', 'lettuce', 'tomato', 'bacon']\n"
          ]
        }
      ]
    },
    {
      "cell_type": "code",
      "source": [
        "c=ingredients.values()"
      ],
      "metadata": {
        "id": "4rpmsE-XctQa"
      },
      "execution_count": 17,
      "outputs": []
    },
    {
      "cell_type": "code",
      "source": [
        "#counts the length of the values\n",
        "len(c)"
      ],
      "metadata": {
        "colab": {
          "base_uri": "https://localhost:8080/"
        },
        "id": "cwwLRZBec6yR",
        "outputId": "a8bb7208-8a11-4e2d-f3c8-798b80ce00d2"
      },
      "execution_count": 18,
      "outputs": [
        {
          "output_type": "execute_result",
          "data": {
            "text/plain": [
              "1"
            ]
          },
          "metadata": {},
          "execution_count": 18
        }
      ]
    },
    {
      "cell_type": "code",
      "source": [
        "#display key and values of the given dictioanry\n",
        "for x,y in ingredients.items():\n",
        "  print(x,y)"
      ],
      "metadata": {
        "colab": {
          "base_uri": "https://localhost:8080/"
        },
        "id": "IZGuJkaVdUHK",
        "outputId": "8c94bfef-d36c-4421-a7e2-89c254767eb0"
      },
      "execution_count": 20,
      "outputs": [
        {
          "output_type": "stream",
          "name": "stdout",
          "text": [
            "blt sandwich ['bread', 'lettuce', 'tomato', 'bacon']\n"
          ]
        }
      ]
    },
    {
      "cell_type": "code",
      "source": [
        "#display the list of keys\n",
        "for x in ingredients.keys():\n",
        "  print(x)"
      ],
      "metadata": {
        "colab": {
          "base_uri": "https://localhost:8080/"
        },
        "id": "86j822lKdhcb",
        "outputId": "e6cb6a3b-74bb-43db-dd56-0c663b2ee96d"
      },
      "execution_count": 21,
      "outputs": [
        {
          "output_type": "stream",
          "name": "stdout",
          "text": [
            "blt sandwich\n"
          ]
        }
      ]
    },
    {
      "cell_type": "code",
      "source": [
        "car = {\n",
        "  \"brand\": \"Ford\",\n",
        "  \"model\": \"Mustang\",\n",
        "  \"year\": 1964\n",
        "}\n",
        "#removes all the elements in the dictionary \n",
        "car.clear()\n",
        "\n",
        "print(car)"
      ],
      "metadata": {
        "colab": {
          "base_uri": "https://localhost:8080/"
        },
        "id": "2mHoYNgQeVxx",
        "outputId": "1d83bdfc-7f52-41e7-f306-8029ebcfc3e4"
      },
      "execution_count": 23,
      "outputs": [
        {
          "output_type": "stream",
          "name": "stdout",
          "text": [
            "{}\n"
          ]
        }
      ]
    },
    {
      "cell_type": "code",
      "source": [
        "car = {\n",
        "  \"brand\": \"Ford\",\n",
        "  \"model\": \"Mustang\",\n",
        "  \"year\": 1964\n",
        "}\n",
        "#copies all the elements \n",
        "x = car.copy()\n",
        "\n",
        "print(x)"
      ],
      "metadata": {
        "colab": {
          "base_uri": "https://localhost:8080/"
        },
        "id": "c9SH52YyeZWI",
        "outputId": "9791b99b-d67f-432b-fa6a-37f5df91122f"
      },
      "execution_count": 24,
      "outputs": [
        {
          "output_type": "stream",
          "name": "stdout",
          "text": [
            "{'brand': 'Ford', 'model': 'Mustang', 'year': 1964}\n"
          ]
        }
      ]
    },
    {
      "cell_type": "code",
      "source": [
        "x = ('key1', 'key2', 'key3')\n",
        "y = 0\n",
        "\n",
        "thisdict = dict.fromkeys(x, y)\n",
        "\n",
        "print(thisdict)"
      ],
      "metadata": {
        "colab": {
          "base_uri": "https://localhost:8080/"
        },
        "id": "Mpl_sVKrefeB",
        "outputId": "46cba57a-4762-4ed0-9144-199147f12bad"
      },
      "execution_count": 25,
      "outputs": [
        {
          "output_type": "stream",
          "name": "stdout",
          "text": [
            "{'key1': 0, 'key2': 0, 'key3': 0}\n"
          ]
        }
      ]
    },
    {
      "cell_type": "code",
      "source": [
        "car = {\n",
        "  \"brand\": \"Ford\",\n",
        "  \"model\": \"Mustang\",\n",
        "  \"year\": 1964\n",
        "}\n",
        "#get the value for the given key\n",
        "x = car.get(\"model\")\n",
        "\n",
        "print(x)"
      ],
      "metadata": {
        "colab": {
          "base_uri": "https://localhost:8080/"
        },
        "id": "sQ5P2n0LenBS",
        "outputId": "79f7b22d-bfbb-48fb-bae3-7db5079edff3"
      },
      "execution_count": 26,
      "outputs": [
        {
          "output_type": "stream",
          "name": "stdout",
          "text": [
            "Mustang\n"
          ]
        }
      ]
    },
    {
      "cell_type": "code",
      "source": [
        "x = car.items()\n",
        "\n",
        "print(x)"
      ],
      "metadata": {
        "colab": {
          "base_uri": "https://localhost:8080/"
        },
        "id": "WvoMcm8TeuZx",
        "outputId": "220f408f-f601-4a9f-d03f-1229c42d480c"
      },
      "execution_count": 27,
      "outputs": [
        {
          "output_type": "stream",
          "name": "stdout",
          "text": [
            "dict_items([('brand', 'Ford'), ('model', 'Mustang'), ('year', 1964)])\n"
          ]
        }
      ]
    },
    {
      "cell_type": "code",
      "source": [
        "x = car.keys()\n",
        "\n",
        "print(x)"
      ],
      "metadata": {
        "colab": {
          "base_uri": "https://localhost:8080/"
        },
        "id": "-e2hqeFnev86",
        "outputId": "505d7ca3-751d-4d99-d015-e28bb5a9b118"
      },
      "execution_count": 28,
      "outputs": [
        {
          "output_type": "stream",
          "name": "stdout",
          "text": [
            "dict_keys(['brand', 'model', 'year'])\n"
          ]
        }
      ]
    },
    {
      "cell_type": "code",
      "source": [
        "#removes the element  for the given key\n",
        "car.pop(\"model\")\n",
        "\n",
        "print(car)"
      ],
      "metadata": {
        "colab": {
          "base_uri": "https://localhost:8080/"
        },
        "id": "Sw0jZCKOfHGL",
        "outputId": "20973aa6-c217-4c89-f22e-a2976c4bfbea"
      },
      "execution_count": 29,
      "outputs": [
        {
          "output_type": "stream",
          "name": "stdout",
          "text": [
            "{'brand': 'Ford', 'year': 1964}\n"
          ]
        }
      ]
    },
    {
      "cell_type": "code",
      "source": [
        "car.popitem()\n",
        "\n",
        "print(car)"
      ],
      "metadata": {
        "colab": {
          "base_uri": "https://localhost:8080/"
        },
        "id": "7bx6P_ddfIMx",
        "outputId": "0d801420-dfbc-4b73-8390-3b5beba5ce2c"
      },
      "execution_count": 31,
      "outputs": [
        {
          "output_type": "stream",
          "name": "stdout",
          "text": [
            "{}\n"
          ]
        }
      ]
    },
    {
      "cell_type": "markdown",
      "source": [
        "The setdefault() method returns the value of the item with the specified key.\n",
        "\n",
        "If the key does not exist, insert the key, with the specified value"
      ],
      "metadata": {
        "id": "TFaX3sEqfZ_K"
      }
    },
    {
      "cell_type": "code",
      "source": [
        "x = car.setdefault(\"model\", \"Bronco\")\n",
        "\n",
        "print(x)"
      ],
      "metadata": {
        "colab": {
          "base_uri": "https://localhost:8080/"
        },
        "id": "qbJT9KPTfMjx",
        "outputId": "458379d2-0277-4e07-ac2f-3f49d59292cd"
      },
      "execution_count": 32,
      "outputs": [
        {
          "output_type": "stream",
          "name": "stdout",
          "text": [
            "Bronco\n"
          ]
        }
      ]
    },
    {
      "cell_type": "code",
      "source": [
        "#The update() method inserts the specified items to the dictionary.\n",
        "\n",
        "#The specified items can be a dictionary, or an iterable object with key value pairs.\n",
        "car.update({\"color\": \"White\"})\n",
        "\n",
        "print(car)"
      ],
      "metadata": {
        "colab": {
          "base_uri": "https://localhost:8080/"
        },
        "id": "HT2IJ5hUfYtJ",
        "outputId": "42635fc4-2323-4182-f0a0-e98eb1ef009a"
      },
      "execution_count": 33,
      "outputs": [
        {
          "output_type": "stream",
          "name": "stdout",
          "text": [
            "{'model': 'Bronco', 'color': 'White'}\n"
          ]
        }
      ]
    },
    {
      "cell_type": "code",
      "source": [
        "x = car.values()\n",
        "\n",
        "print(x)"
      ],
      "metadata": {
        "colab": {
          "base_uri": "https://localhost:8080/"
        },
        "id": "uJ3-rMQAflfC",
        "outputId": "a008b620-999e-4c8f-d906-bbb4de0ca612"
      },
      "execution_count": 34,
      "outputs": [
        {
          "output_type": "stream",
          "name": "stdout",
          "text": [
            "dict_values(['Bronco', 'White'])\n"
          ]
        }
      ]
    }
  ]
}